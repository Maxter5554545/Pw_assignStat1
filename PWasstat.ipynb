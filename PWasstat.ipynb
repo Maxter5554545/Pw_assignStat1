{
 "cells": [
  {
   "cell_type": "markdown",
   "id": "e7be8b85-b416-4a3f-ab93-f42965abc661",
   "metadata": {},
   "source": [
    "Q1. What is Statistics?\n",
    "![Question 1](q1.png)"
   ]
  },
  {
   "cell_type": "markdown",
   "id": "882bfa03-d949-44c8-b610-0e2fe4ec4229",
   "metadata": {},
   "source": [
    "Q2. Define the different types of statistics and give an example of when each type might be used.\n",
    "![Question_2](q2.png)"
   ]
  },
  {
   "cell_type": "markdown",
   "id": "ba2a65e6-ca30-4261-a183-0f157eaa8e31",
   "metadata": {},
   "source": [
    "Q3. What are the different types of data and how do they differ from each other? Provide an example of\n",
    "each type of data.\n",
    "![Question_3](q3.png)"
   ]
  },
  {
   "cell_type": "markdown",
   "id": "88cecca5-4deb-4bfc-9b90-73806965a010",
   "metadata": {},
   "source": [
    "Q4. Categorise the following datasets with respect to quantitative and qualitative data types:\n",
    "(i) Grading in exam: A+, A, B+, B, C+, C, D, E\n",
    "(ii) Colour of mangoes: yellow, green, orange, red\n",
    "(iii) Height data of a class: [178.9, 179, 179.5, 176, 177.2, 178.3, 175.8,...]\n",
    "(iv) Number of mangoes exported by a farm: [500, 600, 478, 672, ...]\n",
    "\n",
    "![Question_3](q4_1.png)\n",
    "![Question_3](q4_2.png)"
   ]
  },
  {
   "cell_type": "markdown",
   "id": "22f38c80-c50b-4a86-b303-2de38063ab71",
   "metadata": {},
   "source": [
    "Q5. Explain the concept of levels of measurement and give an example of a variable for each level.\n",
    "![Question_3](q5.png)"
   ]
  },
  {
   "cell_type": "markdown",
   "id": "951053f0-180f-4cf4-bda1-965227a76cdc",
   "metadata": {},
   "source": [
    "Q7. How nominal data type is different from ordinal data type.\n",
    "\n",
    "![Question_3](q7.png)"
   ]
  },
  {
   "cell_type": "markdown",
   "id": "7c86b832-8a88-46e8-b6d5-ccdd5d6daa7b",
   "metadata": {},
   "source": [
    "Q8. Which type of plot can be used to display data in terms of range?\n",
    "\n",
    "![Question_3](q8.png)"
   ]
  },
  {
   "cell_type": "markdown",
   "id": "780469e2-b785-4a15-b507-48cfaf44eacc",
   "metadata": {},
   "source": [
    "Q9. Describe the difference between descriptive and inferential statistics. Give an example of each\n",
    "type of statistics and explain how they are used.\n",
    "\n",
    "\n",
    "![Question_3](q9.png)\n",
    "![Question_3](q9_2.png)"
   ]
  },
  {
   "cell_type": "markdown",
   "id": "7e095560-c7f4-43f3-ae9e-f0cd288f045e",
   "metadata": {},
   "source": [
    "Q10. What are some common measures of central tendency and variability used in statistics? Explain\n",
    "how each measure can be used to describe a dataset.\n",
    "\n",
    "![Question_3](q10.png)"
   ]
  },
  {
   "cell_type": "code",
   "execution_count": null,
   "id": "177a3fbe-8506-42cf-871a-fba951829951",
   "metadata": {},
   "outputs": [],
   "source": []
  }
 ],
 "metadata": {
  "kernelspec": {
   "display_name": "Python 3 (ipykernel)",
   "language": "python",
   "name": "python3"
  },
  "language_info": {
   "codemirror_mode": {
    "name": "ipython",
    "version": 3
   },
   "file_extension": ".py",
   "mimetype": "text/x-python",
   "name": "python",
   "nbconvert_exporter": "python",
   "pygments_lexer": "ipython3",
   "version": "3.10.8"
  }
 },
 "nbformat": 4,
 "nbformat_minor": 5
}
